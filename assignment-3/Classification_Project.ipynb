{
 "cells": [
  {
   "cell_type": "code",
   "execution_count": 1,
   "id": "5996ebda",
   "metadata": {},
   "outputs": [],
   "source": [
    "import warnings\n",
    "warnings.filterwarnings('ignore')\n",
    "import seaborn as sns \n",
    "import matplotlib.pyplot as plt\n",
    "import pandas as pd\n",
    "import numpy as np\n",
    "import math\n",
    "\n",
    "import tensorflow as tf\n",
    "from tensorflow.keras import regularizers\n",
    "from tensorflow.keras.models import Sequential\n",
    "from tensorflow.keras.layers import Dense\n",
    "\n",
    "import sklearn\n",
    "from sklearn import linear_model, metrics\n",
    "\n",
    "from sklearn.neighbors import KNeighborsClassifier\n",
    "\n",
    "from sklearn.naive_bayes import GaussianNB\n",
    "\n",
    "import sklearn.preprocessing as prep\n",
    "from sklearn.preprocessing import Normalizer\n",
    "\n",
    "from sklearn.linear_model import LogisticRegression\n",
    "\n",
    "from sklearn.neural_network import MLPClassifier\n",
    "\n",
    "from sklearn.metrics import accuracy_score\n",
    "from sklearn.metrics import accuracy_score, roc_auc_score, confusion_matrix, classification_report, plot_roc_curve, plot_confusion_matrix\n",
    "\n",
    "from sklearn.model_selection import train_test_split , KFold\n",
    "from sklearn.model_selection import train_test_split, cross_val_score, GridSearchCV\n",
    "from sklearn.model_selection import cross_val_score\n",
    "from sklearn.model_selection import cross_validate"
   ]
  },
  {
   "cell_type": "code",
   "execution_count": 121,
   "id": "a80805de",
   "metadata": {},
   "outputs": [],
   "source": [
    "#pip install --upgrade pip"
   ]
  },
  {
   "cell_type": "code",
   "execution_count": 122,
   "id": "77bcc524",
   "metadata": {},
   "outputs": [],
   "source": [
    "#pip install tensorflow==2.12.*"
   ]
  },
  {
   "cell_type": "markdown",
   "id": "11275992",
   "metadata": {},
   "source": [
    "\n",
    "# Classification task using the Heart Disease Dataset"
   ]
  },
  {
   "cell_type": "markdown",
   "id": "c9580729",
   "metadata": {},
   "source": [
    "\n",
    "This dataset includes various patient attributes that can be used to predict the presence of heart disease. The features include age, sex, chest pain type, resting blood pressure, and cholesterol levels, with a total of 303 instances.\n",
    "\n",
    "Your task is to classify whether a person has heart disease or not. The last column, labeled \"target,\" contains the classification: 0 indicates no heart disease, and 1 indicates the presence of heart disease.\n",
    "\n",
    "Once you have made your predictions, use some records from the dataset as test data. Then, calculate the accuracy score by comparing your predicted results with the actual target values."
   ]
  },
  {
   "cell_type": "markdown",
   "id": "c01f5f68",
   "metadata": {},
   "source": [
    "# Neural Networks"
   ]
  },
  {
   "cell_type": "code",
   "execution_count": null,
   "id": "77c3038c",
   "metadata": {},
   "outputs": [],
   "source": []
  },
  {
   "cell_type": "markdown",
   "id": "a2aea2a5",
   "metadata": {},
   "source": [
    "# Logistic regression"
   ]
  },
  {
   "cell_type": "code",
   "execution_count": null,
   "id": "6352b061",
   "metadata": {},
   "outputs": [],
   "source": []
  },
  {
   "cell_type": "markdown",
   "id": "f6914830",
   "metadata": {},
   "source": [
    "# Decision Tree"
   ]
  },
  {
   "cell_type": "code",
   "execution_count": null,
   "id": "725438ec",
   "metadata": {},
   "outputs": [],
   "source": []
  }
 ],
 "metadata": {
  "kernelspec": {
   "display_name": "Python 3 (ipykernel)",
   "language": "python",
   "name": "python3"
  },
  "language_info": {
   "codemirror_mode": {
    "name": "ipython",
    "version": 3
   },
   "file_extension": ".py",
   "mimetype": "text/x-python",
   "name": "python",
   "nbconvert_exporter": "python",
   "pygments_lexer": "ipython3",
   "version": "3.9.12"
  }
 },
 "nbformat": 4,
 "nbformat_minor": 5
}
